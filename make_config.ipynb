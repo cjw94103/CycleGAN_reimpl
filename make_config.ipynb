{
 "cells": [
  {
   "cell_type": "code",
   "execution_count": 1,
   "id": "1fb0ef0f-9248-4ac8-821b-0792db30f720",
   "metadata": {},
   "outputs": [],
   "source": [
    "from utils import *"
   ]
  },
  {
   "cell_type": "code",
   "execution_count": null,
   "id": "4780ab13-9a1e-49e2-bf96-d7578fef98c3",
   "metadata": {},
   "outputs": [],
   "source": [
    "param_dict = {}\n",
    "param_dict['data_path'] = './data/summer2winter_yosemite/'\n",
    "param_dict['img_height'] = 256\n",
    "param_dict['img_width'] = 256\n",
    "param_dict['channels'] = 3\n",
    "param_dict['num_workers'] = 0\n",
    "param_dict['batch_size'] = 8\n",
    "param_dict['n_residual_blocks'] = 9\n",
    "param_dict['epochs'] = 200\n",
    "param_dict['lr_decay_epoch'] = 100\n",
    "param_dict['lambda_cyc'] = 10.0\n",
    "param_dict['lambda_id'] = 5.0\n",
    "param_dict['model_save_path'] = './model_result/Summer2Winter/Translation_Model.pth'\n",
    "param_dict['save_per_epochs'] = 100\n",
    "param_dict['multi_gpu_flag'] = True\n",
    "param_dict['port_num'] = 14000\n",
    "param_dict['b1'] = 0.5\n",
    "param_dict['b2'] = 0.999\n",
    "param_dict['lr'] = 2e-4"
   ]
  },
  {
   "cell_type": "code",
   "execution_count": null,
   "id": "a4f20ca2-e190-4975-83ec-39a08c474bc9",
   "metadata": {},
   "outputs": [],
   "source": [
    "save_json('./config/summer2winter_multi_gpu.json', param_dict)"
   ]
  }
 ],
 "metadata": {
  "kernelspec": {
   "display_name": "torch",
   "language": "python",
   "name": "torch"
  },
  "language_info": {
   "codemirror_mode": {
    "name": "ipython",
    "version": 3
   },
   "file_extension": ".py",
   "mimetype": "text/x-python",
   "name": "python",
   "nbconvert_exporter": "python",
   "pygments_lexer": "ipython3",
   "version": "3.9.18"
  }
 },
 "nbformat": 4,
 "nbformat_minor": 5
}
